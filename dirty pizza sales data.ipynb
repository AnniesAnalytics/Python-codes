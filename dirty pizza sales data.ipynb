{
 "cells": [
  {
   "cell_type": "code",
   "execution_count": 1,
   "id": "40e12cb3-b32d-445e-9d5e-a843100c6896",
   "metadata": {},
   "outputs": [],
   "source": [
    "import pandas as pd\n",
    "import numpy as np\n",
    "\n",
    "input_file_path = \"C:\\\\Users\\\\kanel\\\\Documents\\\\Book Proj's\\\\pizza_sales\\\\order_details.csv\"\n",
    "output_file_path = \"C:\\\\Users\\\\kanel\\\\Documents\\\\Book Proj's\\\\pizza_sales\\\\order_details_dirty.csv\"\n",
    "\n",
    "df = pd.read_csv(input_file_path)\n",
    "\n",
    "probabilities = [0.26, 0.23, 0.20, (1 - 0.26 - 0.23 - 0.20) / 2, (1 - 0.26 - 0.23 - 0.20) / 2]\n",
    "choices = [1, 2, 3, 4, 5]\n",
    "\n",
    "df['quantity'] = np.random.choice(choices, len(df), p=probabilities)\n",
    "\n",
    "df.to_csv(output_file_path, index=False)\n"
   ]
  },
  {
   "cell_type": "code",
   "execution_count": 6,
   "id": "7c8fc4c0-b250-46d5-8988-e250c78175d5",
   "metadata": {},
   "outputs": [],
   "source": [
    "input_file_path = \"C:\\\\Users\\\\kanel\\\\Documents\\\\Book Proj's\\\\pizza_sales\\\\orders.csv\"\n",
    "output_file_path = \"C:\\\\Users\\\\kanel\\\\Documents\\\\Book Proj's\\\\pizza_sales\\\\orders_dirty.csv\"\n",
    "\n",
    "df = pd.read_csv(input_file_path)\n",
    "\n",
    "df['order_id'] = df['order_id'].apply(lambda x: \"AA\" + str(x) if np.random.random() < 0.35 else (\"_\" + str(x) if np.random.random() < 0.18 else str(x)))\n",
    "\n",
    "df['time'] = df['time'].str.replace(':', '.')\n",
    "\n",
    "# Duplicate 28% of orders with all details\n",
    "duplicated_df_1 = df.sample(frac=0.28).copy()\n",
    "\n",
    "# Duplicate another 30% of orders, keeping only order_id\n",
    "duplicated_df_2 = df.sample(frac=0.30)[['order_id']].copy()\n",
    "duplicated_df_2['date'] = np.nan\n",
    "duplicated_df_2['time'] = np.nan\n",
    "\n",
    "# Append duplicated data using pandas.concat\n",
    "df = pd.concat([df, duplicated_df_1, duplicated_df_2], ignore_index=True)\n",
    "\n",
    "df.to_csv(output_file_path, index=False)\n",
    "\n"
   ]
  },
  {
   "cell_type": "code",
   "execution_count": 16,
   "id": "3a470a79-810b-47e0-9876-d714415dc8ab",
   "metadata": {},
   "outputs": [],
   "source": [
    "input_file_path = \"C:\\\\Users\\\\kanel\\\\Documents\\\\Book Proj's\\\\pizza_sales\\\\pizzas.csv\"\n",
    "output_file_path = \"C:\\\\Users\\\\kanel\\\\Documents\\\\Book Proj's\\\\pizza_sales\\\\pizzas_dirty.csv\"\n",
    "\n",
    "df = pd.read_csv(input_file_path)\n",
    "\n",
    "def modify_pizza_type_id(id):\n",
    "    if np.random.random() < 0.46:\n",
    "        return id.replace('_', ' ', 1)\n",
    "    elif np.random.random() < 0.41:\n",
    "        return id[::-1].replace('_', ' ', 1)[::-1]\n",
    "    else:\n",
    "        return id\n",
    "\n",
    "df['pizza_type_id'] = df['pizza_type_id'].apply(modify_pizza_type_id)\n",
    "\n",
    "df['price'] = df['price'].apply(lambda x: '$'+str(x) if np.random.random() < 0.41 else x)\n",
    "\n",
    "df.to_csv(output_file_path, index=False)\n",
    "\n",
    "\n"
   ]
  },
  {
   "cell_type": "code",
   "execution_count": 15,
   "id": "05dbc851-53d1-4756-af9e-d142cf0fe150",
   "metadata": {},
   "outputs": [],
   "source": [
    "\n",
    "input_file_path = r\"C:\\Users\\kanel\\Documents\\Book Proj's\\pizza_sales\\pizza_types.xlsx\"\n",
    "output_file_path = r\"C:\\Users\\kanel\\Documents\\Book Proj's\\pizza_sales\\pizza_types_dirty.xlsx\"\n",
    "\n",
    "df = pd.read_excel(input_file_path)\n",
    "\n",
    "ingredients = df['ingredients'].str.split(', ')\n",
    "all_ingredients = {ingredient for sublist in ingredients for ingredient in sublist}\n",
    "\n",
    "for ingredient in all_ingredients:\n",
    "    df[ingredient] = df['ingredients'].apply(lambda x: 1 if ingredient in x else 0)\n",
    "\n",
    "df = df.rename(columns={'pizza_type_id': 'pizza_id'})\n",
    "\n",
    "df.to_excel(output_file_path, index=False)\n",
    "\n"
   ]
  },
  {
   "cell_type": "code",
   "execution_count": null,
   "id": "b189d0a4-41b8-4416-9486-27b05315e011",
   "metadata": {},
   "outputs": [],
   "source": []
  }
 ],
 "metadata": {
  "kernelspec": {
   "display_name": "Python 3 (ipykernel)",
   "language": "python",
   "name": "python3"
  },
  "language_info": {
   "codemirror_mode": {
    "name": "ipython",
    "version": 3
   },
   "file_extension": ".py",
   "mimetype": "text/x-python",
   "name": "python",
   "nbconvert_exporter": "python",
   "pygments_lexer": "ipython3",
   "version": "3.9.13"
  }
 },
 "nbformat": 4,
 "nbformat_minor": 5
}
