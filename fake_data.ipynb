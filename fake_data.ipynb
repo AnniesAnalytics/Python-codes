{
 "cells": [
  {
   "cell_type": "code",
   "execution_count": 1,
   "id": "e7421f26-7c4b-4059-a9c0-45ec4a7fa190",
   "metadata": {},
   "outputs": [
    {
     "name": "stdout",
     "output_type": "stream",
     "text": [
      "Collecting Faker\n",
      "  Downloading Faker-18.3.0-py3-none-any.whl (1.7 MB)\n",
      "     ---------------------------------------- 1.7/1.7 MB 15.5 MB/s eta 0:00:00\n",
      "Requirement already satisfied: python-dateutil>=2.4 in c:\\programdata\\anaconda3\\lib\\site-packages (from Faker) (2.8.2)\n",
      "Requirement already satisfied: six>=1.5 in c:\\programdata\\anaconda3\\lib\\site-packages (from python-dateutil>=2.4->Faker) (1.16.0)\n",
      "Installing collected packages: Faker\n",
      "Successfully installed Faker-18.3.0\n",
      "Note: you may need to restart the kernel to use updated packages.\n"
     ]
    }
   ],
   "source": [
    "pip install Faker"
   ]
  },
  {
   "cell_type": "code",
   "execution_count": 2,
   "id": "20b1c08f-3a4e-433d-b378-5d8144a93294",
   "metadata": {},
   "outputs": [],
   "source": [
    "import csv\n",
    "import random\n",
    "from faker import Faker"
   ]
  },
  {
   "cell_type": "code",
   "execution_count": 3,
   "id": "a30e828c-4eca-4377-9d67-f771a888838b",
   "metadata": {},
   "outputs": [],
   "source": [
    "fake = Faker() #this is where we get the fake names\n",
    "\n",
    "grades = [9, 10, 11, 12]\n",
    "genders = ['M', 'F']\n",
    "colors = ['Red', 'Blue', 'Green', 'Yellow', 'Orange', 'Purple', 'Pink']\n"
   ]
  },
  {
   "cell_type": "code",
   "execution_count": 4,
   "id": "29768bb3-392f-40d9-8e8b-0e8f816e739b",
   "metadata": {},
   "outputs": [],
   "source": [
    "# Set the desired file path\n",
    "file_path = r'C:\\Users\\kanel\\Documents\\Fake Student Data.csv'\n"
   ]
  },
  {
   "cell_type": "code",
   "execution_count": 9,
   "id": "9c5255a4-09a6-4432-a932-94ea4755e75a",
   "metadata": {},
   "outputs": [],
   "source": [
    "with open(file_path, 'w', newline='') as csvfile:\n",
    "    fieldnames = ['Name', 'Student ID', 'GPA', 'Grade', 'Birth Year', 'Gender', 'Favorite Color', 'Number of Days Absent']  #create columns\n",
    "    writer = csv.DictWriter(csvfile, fieldnames=fieldnames)  #writing to the csv file from the python dictionary\n",
    "    writer.writeheader()\n",
    "\n",
    "    student_id = 100000\n",
    "    for grade in grades:  #Processes each grade at a time. So for grade 9 (the first from the grades list) it will do the following tasks. Then it will move to the next, grade 10\n",
    "        # Generate a random number of students around 500 for each grade\n",
    "        num_students = random.randint(480, 520)\n",
    "        for i in range(num_students):\n",
    "            student_id += 1\n",
    "            birth_year = 2022 - grade - 14 + random.randint(-1, 0)   # Randomize birth year within a two-year range\n",
    "            writer.writerow({\n",
    "                'Name': fake.name(), #pulls from the Faker to get the names \n",
    "                'Student ID': student_id, #assigns the current Student ID for this loop to this column\n",
    "                'GPA': round(random.uniform(0, 4), 2), #randomized the GPA\n",
    "                'Grade': grade,\n",
    "                'Birth Year': birth_year,\n",
    "                'Gender': random.choice(genders),\n",
    "                'Favorite Color': random.choice(colors),\n",
    "                'Number of Days Absent': random.randint(0, 10)\n",
    "            })"
   ]
  },
  {
   "cell_type": "code",
   "execution_count": null,
   "id": "9d941309-a15e-4ad4-8c77-63cd946aac3f",
   "metadata": {},
   "outputs": [],
   "source": []
  }
 ],
 "metadata": {
  "kernelspec": {
   "display_name": "Python 3 (ipykernel)",
   "language": "python",
   "name": "python3"
  },
  "language_info": {
   "codemirror_mode": {
    "name": "ipython",
    "version": 3
   },
   "file_extension": ".py",
   "mimetype": "text/x-python",
   "name": "python",
   "nbconvert_exporter": "python",
   "pygments_lexer": "ipython3",
   "version": "3.9.13"
  }
 },
 "nbformat": 4,
 "nbformat_minor": 5
}
